{
 "cells": [
  {
   "cell_type": "code",
   "execution_count": 3,
   "metadata": {},
   "outputs": [],
   "source": [
    "from selenium import webdriver\n",
    "from selenium.webdriver.common.keys import Keys\n",
    "from selenium.webdriver.common.by import By\n",
    "from selenium.webdriver.support.ui import WebDriverWait\n",
    "from selenium.webdriver.support import expected_conditions as EC\n",
    "from bs4 import BeautifulSoup\n",
    "import time\n",
    "import pandas as pd"
   ]
  },
  {
   "cell_type": "code",
   "execution_count": 4,
   "metadata": {},
   "outputs": [
    {
     "name": "stdout",
     "output_type": "stream",
     "text": [
      "Requirement already satisfied: selenium in ./anaconda3/lib/python3.7/site-packages (4.11.2)\n",
      "Requirement already satisfied: urllib3[socks]<3,>=1.26 in ./anaconda3/lib/python3.7/site-packages (from selenium) (2.0.7)\n",
      "Requirement already satisfied: trio-websocket~=0.9 in ./anaconda3/lib/python3.7/site-packages (from selenium) (0.11.1)\n",
      "Requirement already satisfied: certifi>=2021.10.8 in ./anaconda3/lib/python3.7/site-packages (from selenium) (2024.7.4)\n",
      "Requirement already satisfied: trio~=0.17 in ./anaconda3/lib/python3.7/site-packages (from selenium) (0.22.2)\n",
      "Requirement already satisfied: pysocks!=1.5.7,<2.0,>=1.5.6; extra == \"socks\" in ./anaconda3/lib/python3.7/site-packages (from urllib3[socks]<3,>=1.26->selenium) (1.7.1)\n",
      "Requirement already satisfied: exceptiongroup; python_version < \"3.11\" in ./anaconda3/lib/python3.7/site-packages (from trio-websocket~=0.9->selenium) (1.2.2)\n",
      "Requirement already satisfied: wsproto>=0.14 in ./anaconda3/lib/python3.7/site-packages (from trio-websocket~=0.9->selenium) (1.2.0)\n",
      "Requirement already satisfied: sniffio in ./anaconda3/lib/python3.7/site-packages (from trio~=0.17->selenium) (1.3.1)\n",
      "Requirement already satisfied: outcome in ./anaconda3/lib/python3.7/site-packages (from trio~=0.17->selenium) (1.3.0.post0)\n",
      "Requirement already satisfied: attrs>=20.1.0 in ./anaconda3/lib/python3.7/site-packages (from trio~=0.17->selenium) (24.2.0)\n",
      "Requirement already satisfied: sortedcontainers in ./anaconda3/lib/python3.7/site-packages (from trio~=0.17->selenium) (2.1.0)\n",
      "Requirement already satisfied: idna in ./anaconda3/lib/python3.7/site-packages (from trio~=0.17->selenium) (2.8)\n",
      "Requirement already satisfied: h11<1,>=0.9.0 in ./anaconda3/lib/python3.7/site-packages (from wsproto>=0.14->trio-websocket~=0.9->selenium) (0.14.0)\n",
      "Requirement already satisfied: importlib-metadata; python_version < \"3.8\" in ./anaconda3/lib/python3.7/site-packages (from attrs>=20.1.0->trio~=0.17->selenium) (1.5.0)\n",
      "Requirement already satisfied: typing-extensions; python_version < \"3.8\" in ./anaconda3/lib/python3.7/site-packages (from h11<1,>=0.9.0->wsproto>=0.14->trio-websocket~=0.9->selenium) (4.7.1)\n",
      "Requirement already satisfied: zipp>=0.5 in ./anaconda3/lib/python3.7/site-packages (from importlib-metadata; python_version < \"3.8\"->attrs>=20.1.0->trio~=0.17->selenium) (2.2.0)\n",
      "Note: you may need to restart the kernel to use updated packages.\n"
     ]
    }
   ],
   "source": [
    "pip install selenium"
   ]
  },
  {
   "cell_type": "code",
   "execution_count": 5,
   "metadata": {},
   "outputs": [
    {
     "name": "stdout",
     "output_type": "stream",
     "text": [
      "Job listings have been saved to indeed_job_listings.xlsx\n"
     ]
    }
   ],
   "source": [
    "# Initialize the Chrome WebDriver\n",
    "driver = webdriver.Chrome()\n",
    "\n",
    "# Open the Indeed website\n",
    "driver.get(\"https://www.indeed.com/\")\n",
    "\n",
    "# Wait for the search bar to load\n",
    "search_bar = WebDriverWait(driver, 10).until(EC.presence_of_element_located((By.ID, \"text-input-what\")))\n",
    "\n",
    "# Enter the search query (e.g., \"Data Analyst\")\n",
    "search_query = \"Data Analyst\"\n",
    "search_bar.send_keys(search_query)\n",
    "\n",
    "# Enter the location (e.g., \"Remote\")\n",
    "location_bar = WebDriverWait(driver, 10).until(EC.presence_of_element_located((By.ID, \"text-input-where\")))\n",
    "location_bar.send_keys(Keys.CONTROL + \"a\")  # Select all text in the location bar\n",
    "location_bar.send_keys(Keys.BACKSPACE)  # Clear the location bar\n",
    "location_bar.send_keys(\"Remote\")\n",
    "\n",
    "# Click the search button\n",
    "search_button = driver.find_element(By.CLASS_NAME, \"yosegi-InlineWhatWhere-primaryButton\")\n",
    "search_button.click()\n",
    "\n",
    "# Allow the page to load\n",
    "time.sleep(5)\n",
    "\n",
    "# Parse the page source with BeautifulSoup\n",
    "soup = BeautifulSoup(driver.page_source, \"html.parser\")\n",
    "\n",
    "# Find all job listings on the page\n",
    "job_listings = soup.find_all(\"div\", class_=\"job_seen_beacon\")\n",
    "\n",
    "# Create an empty list to store job data\n",
    "job_data = []\n",
    "\n",
    "# Extract job details with error handling\n",
    "for job in job_listings:\n",
    "    title = job.find(\"h2\", class_=\"jobTitle\")\n",
    "    title_text = title.text.strip() if title else \"N/A\"\n",
    "\n",
    "    company = job.find(\"span\", class_=\"companyName\")\n",
    "    company_text = company.text.strip() if company else \"N/A\"\n",
    "\n",
    "    location = job.find(\"div\", class_=\"companyLocation\")\n",
    "    location_text = location.text.strip() if location else \"N/A\"\n",
    "\n",
    "    job_data.append({\"Title\": title_text, \"Company\": company_text, \"Location\": location_text})\n",
    "\n",
    "# Convert the job data to a DataFrame\n",
    "df = pd.DataFrame(job_data)\n",
    "\n",
    "# Save the job data to an Excel file\n",
    "df.to_excel(\"indeed_job_listings.xlsx\", index=False)\n",
    "\n",
    "# Close the WebDriver\n",
    "driver.quit()\n",
    "\n",
    "print(\"Job listings have been saved to indeed_job_listings.xlsx\")"
   ]
  },
  {
   "cell_type": "code",
   "execution_count": null,
   "metadata": {},
   "outputs": [],
   "source": []
  }
 ],
 "metadata": {
  "kernelspec": {
   "display_name": "Python 3",
   "language": "python",
   "name": "python3"
  },
  "language_info": {
   "codemirror_mode": {
    "name": "ipython",
    "version": 3
   },
   "file_extension": ".py",
   "mimetype": "text/x-python",
   "name": "python",
   "nbconvert_exporter": "python",
   "pygments_lexer": "ipython3",
   "version": "3.7.6"
  }
 },
 "nbformat": 4,
 "nbformat_minor": 4
}
